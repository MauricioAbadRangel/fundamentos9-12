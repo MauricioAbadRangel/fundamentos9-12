{
  "nbformat": 4,
  "nbformat_minor": 0,
  "metadata": {
    "colab": {
      "name": "Fundamentos 4.ipynb",
      "provenance": [],
      "mount_file_id": "1VBIVWbfhE_J5bWwvu_tcUga0nQG89Qwm",
      "authorship_tag": "ABX9TyMuDX27NlxVui32h8FWQgVn",
      "include_colab_link": true
    },
    "kernelspec": {
      "name": "python3",
      "display_name": "Python 3"
    },
    "language_info": {
      "name": "python"
    }
  },
  "cells": [
    {
      "cell_type": "markdown",
      "metadata": {
        "id": "view-in-github",
        "colab_type": "text"
      },
      "source": [
        "<a href=\"https://colab.research.google.com/github/MauricioAbadRangel/fundamentos9-12/blob/main/Fundamentos_4.ipynb\" target=\"_parent\"><img src=\"https://colab.research.google.com/assets/colab-badge.svg\" alt=\"Open In Colab\"/></a>"
      ]
    },
    {
      "cell_type": "markdown",
      "source": [
        "#Argumento por defecto\n",
        "Es la capacidad de las funciones de establecer el valor defecto(Default)\n",
        "Si no se envia un argumento a dicho parametro entonces se asigna al que el programador asigno default"
      ],
      "metadata": {
        "id": "xGdld9Zp-SqY"
      }
    },
    {
      "cell_type": "code",
      "source": [
        "def dividir(op1 , op2=2):\n",
        "    c = op1 / op2\n",
        "    return c\n",
        "print(dividir(25))"
      ],
      "metadata": {
        "colab": {
          "base_uri": "https://localhost:8080/"
        },
        "id": "yNwHnHfy-n5D",
        "outputId": "f5843e56-699c-48fe-81f7-0ca603ad3f72"
      },
      "execution_count": null,
      "outputs": [
        {
          "output_type": "stream",
          "name": "stdout",
          "text": [
            "12.5\n"
          ]
        }
      ]
    },
    {
      "cell_type": "markdown",
      "source": [
        "Este concepto se puede ejemplificar con la funcion print"
      ],
      "metadata": {
        "id": "WzygN8iH_PuN"
      }
    },
    {
      "cell_type": "code",
      "source": [
        "help(print)"
      ],
      "metadata": {
        "colab": {
          "base_uri": "https://localhost:8080/"
        },
        "id": "MjwYOJk5_VT4",
        "outputId": "92acfeee-cea1-41bd-a877-16f4e67b7099"
      },
      "execution_count": null,
      "outputs": [
        {
          "output_type": "stream",
          "name": "stdout",
          "text": [
            "Help on built-in function print in module builtins:\n",
            "\n",
            "print(...)\n",
            "    print(value, ..., sep=' ', end='\\n', file=sys.stdout, flush=False)\n",
            "    \n",
            "    Prints the values to a stream, or to sys.stdout by default.\n",
            "    Optional keyword arguments:\n",
            "    file:  a file-like object (stream); defaults to the current sys.stdout.\n",
            "    sep:   string inserted between values, default a space.\n",
            "    end:   string appended after the last value, default a newline.\n",
            "    flush: whether to forcibly flush the stream.\n",
            "\n"
          ]
        }
      ]
    },
    {
      "cell_type": "code",
      "source": [
        "nombre = \"Jose\"\n",
        "edad = 18\n",
        "print(nombre,edad, sep=':)')"
      ],
      "metadata": {
        "colab": {
          "base_uri": "https://localhost:8080/"
        },
        "id": "_d_T_kDU_1BD",
        "outputId": "aec06f21-e1aa-4a46-e1ef-c6f490be8e4e"
      },
      "execution_count": null,
      "outputs": [
        {
          "output_type": "stream",
          "name": "stdout",
          "text": [
            "Jose:)18\n"
          ]
        }
      ]
    },
    {
      "cell_type": "markdown",
      "source": [
        "#ejercicios de argumentos pocisionales"
      ],
      "metadata": {
        "id": "uOIbdI3jA_K1"
      }
    },
    {
      "cell_type": "code",
      "source": [
        "def comanda(comensal=1,primer=\"Consome\",segundo=\"arroz rojo\", tercero=\"Enchiladas\"):\n",
        "    print(f\"El comensal { comensal } quiere: \")\n",
        "    print(\"\\t entrada:\" ,primer)\n",
        "    print(\"\\t medio:\" ,segundo)\n",
        "    print(\"\\t plato fuerte:\" ,tercero)\n",
        "\n",
        "\n",
        "comanda(3,\"Ensalada\", \"Arroz blaco\",\"Esparragos al horno\")"
      ],
      "metadata": {
        "colab": {
          "base_uri": "https://localhost:8080/"
        },
        "id": "2K0kDWaoBFJV",
        "outputId": "053f8f58-d95b-47f8-e889-9dc0bad6a4bf"
      },
      "execution_count": null,
      "outputs": [
        {
          "output_type": "stream",
          "name": "stdout",
          "text": [
            "El comensal 3 quiere: \n",
            "\t entrada: Ensalada\n",
            "\t medio: Arroz blaco\n",
            "\t plato fuerte: Esparragos al horno\n"
          ]
        }
      ]
    },
    {
      "cell_type": "markdown",
      "source": [
        "#Argumentos enviados en grupo en una tupla.\n",
        "Sirve para enviar multiples argumentos a una funcion empleando el comodin   * \n",
        "\n",
        "\n",
        "```\n",
        "def mifun (args* ):\n",
        "    <Cuerpo de la funcion>\n",
        "```\n",
        "\n"
      ],
      "metadata": {
        "id": "YpZrYes-DcDY"
      }
    },
    {
      "cell_type": "code",
      "source": [
        "def comanda2( *opciones):\n",
        "    print(f\"El comensal {opciones[0]} pidio:\")\n",
        "    print(\"\\tEntrada:\",opciones[1])\n",
        "    print(\"\\tSegundo:\",opciones[2])\n",
        "    print(\"\\tPlato fuerte:\",opciones[3])\n",
        "    print(\"indicaciones extra:\")\n",
        "    for instruccion in opciones [4::]:\n",
        "        print(\"\\n\",instruccion)\n",
        "\n",
        "comanda2(1, \"Sopa de fideo\",\"Arroz\", \"Arrachera\")"
      ],
      "metadata": {
        "colab": {
          "base_uri": "https://localhost:8080/"
        },
        "id": "kN-s00kkEOYT",
        "outputId": "d2791b98-0b68-4b33-e67b-33cfd495ca39"
      },
      "execution_count": null,
      "outputs": [
        {
          "output_type": "stream",
          "name": "stdout",
          "text": [
            "El comensal 1 pidio:\n",
            "\tEntrada: Sopa de fideo\n",
            "\tSegundo: Arroz\n",
            "\tPlato fuerte: Arrachera\n",
            "indicaciones extra:\n"
          ]
        }
      ]
    },
    {
      "cell_type": "markdown",
      "source": [
        "#Argumentos enviados en un grupo de diccionario\n",
        "Mismo concepto que el anterior se usa el comopdin ** y mapea un diccionario "
      ],
      "metadata": {
        "id": "RMWBzo1jHPWo"
      }
    },
    {
      "cell_type": "code",
      "source": [
        "def comanda3(**opciones):\n",
        "    print(opciones)\n",
        "comanda3(segundo=\"arroz blanco\",tercero=\"Esparragos al horno\",primer=\"Ensalada\",comensal=3)"
      ],
      "metadata": {
        "colab": {
          "base_uri": "https://localhost:8080/"
        },
        "id": "5b_-drbOHeON",
        "outputId": "05da0f85-c063-4b67-ad2d-880540448205"
      },
      "execution_count": null,
      "outputs": [
        {
          "output_type": "stream",
          "name": "stdout",
          "text": [
            "{'segundo': 'arroz blanco', 'tercero': 'Esparragos al horno', 'primer': 'Ensalada', 'comensal': 3}\n"
          ]
        }
      ]
    },
    {
      "cell_type": "markdown",
      "source": [
        "#Como escribo un modulo de biblioteca \n",
        "se define la biblioteca"
      ],
      "metadata": {
        "id": "VaetHpISPQnf"
      }
    },
    {
      "cell_type": "code",
      "source": [
        "!cat mi_modulo.py"
      ],
      "metadata": {
        "colab": {
          "base_uri": "https://localhost:8080/"
        },
        "id": "r8elG-8SQg14",
        "outputId": "91e036af-bad6-4fc4-a861-b63c43d8084b"
      },
      "execution_count": null,
      "outputs": [
        {
          "output_type": "stream",
          "name": "stdout",
          "text": [
            "def sumar(a,b):\r\n",
            "    return a + b\r\n",
            "def mi_print(texto, final):\r\n",
            "    print(\"Super:\",text, end=final)"
          ]
        }
      ]
    },
    {
      "cell_type": "code",
      "source": [
        "import mi_modulo\n",
        "\n",
        "res = mi_modulo.sumar(7,5)\n",
        "print(res)\n",
        "\n",
        "mi_modulo.mi_print(\"Jesus\", \"\\n\")"
      ],
      "metadata": {
        "colab": {
          "base_uri": "https://localhost:8080/"
        },
        "id": "IdeeomqBQufv",
        "outputId": "678e786d-a787-4cf3-99c0-e65396e6b829"
      },
      "execution_count": null,
      "outputs": [
        {
          "output_type": "stream",
          "name": "stdout",
          "text": [
            "12\n",
            "Super: Jesus\n"
          ]
        }
      ]
    },
    {
      "cell_type": "code",
      "source": [
        "from mi_modulo import sumar, mi_print\n",
        "res = sumar (5,3)\n",
        "print(res)\n",
        "mi_print(\"Jesus\", \"\\n\")"
      ],
      "metadata": {
        "colab": {
          "base_uri": "https://localhost:8080/"
        },
        "id": "qCHznVVJSI8P",
        "outputId": "713cfc38-974d-4717-81b8-d2c57435160a"
      },
      "execution_count": null,
      "outputs": [
        {
          "output_type": "stream",
          "name": "stdout",
          "text": [
            "8\n",
            "Super: Jesus\n"
          ]
        }
      ]
    },
    {
      "cell_type": "markdown",
      "source": [
        "#Manejo de archivos con python3\n",
        " -leer archivos \n",
        "\n",
        " -escribir archivos\n",
        "\n",
        " -manipular la informacion leida desde un archivo\n",
        " \n",
        " -formato de archivo"
      ],
      "metadata": {
        "id": "Y_E4uCjpSvlE"
      }
    },
    {
      "cell_type": "code",
      "source": [
        "archivo = open( \"salida.txt\",\"wt\")\n",
        "archivo. write(\"Hola mundo\")\n",
        "archivo.close()"
      ],
      "metadata": {
        "id": "9eoqS7QlTBoy"
      },
      "execution_count": null,
      "outputs": []
    },
    {
      "cell_type": "code",
      "source": [
        "!cat salida.txt\n"
      ],
      "metadata": {
        "colab": {
          "base_uri": "https://localhost:8080/"
        },
        "id": "2U0gsGZFTQU9",
        "outputId": "648ff5f3-7f2c-4f3d-b3ec-d3d8fad6d45f"
      },
      "execution_count": null,
      "outputs": [
        {
          "output_type": "stream",
          "name": "stdout",
          "text": [
            "Hola mundo"
          ]
        }
      ]
    },
    {
      "cell_type": "markdown",
      "source": [
        "Para abrir un archivo de escritura o lectura se usa la funcion open.\n",
        "\n",
        "```\n",
        "open(fileobj , 'xy')\n",
        "```\n",
        "Donde file object es el nombre del archivo a abrir y el segundo argumento de la funcion esta formado por un par de letras. La primer letra establece el tipo de apertura de el archivo:\n",
        "1. **r** Lectura\n",
        "2. **w** Escritura\n",
        "3. **x** Escritura exclusiva, es decir solo en el caso que el archivo no exista.\n",
        "El sgundo caracter indica el formato del archivo\n",
        "1. **t** formato de texto\n",
        "2. **b** formato binario"
      ],
      "metadata": {
        "id": "rkLmMlWQPyGR"
      }
    },
    {
      "cell_type": "code",
      "source": [
        "archivo= open(\"ejemplo1.txt\", \"wt\")\n",
        "\n",
        "for x in range(10):\n",
        "    archivo.write(\"Hola mundo\"+ str(x)+ \"\\n\")\n",
        "cont = archivo.write(\"otra cosa\")\n",
        "archivo.close()\n",
        "\n",
        "print(\"escrito\", cont)"
      ],
      "metadata": {
        "colab": {
          "base_uri": "https://localhost:8080/"
        },
        "id": "5eWkJz1OPhS6",
        "outputId": "6b84f0c4-1943-4a8c-fdef-3bac9effb488"
      },
      "execution_count": 4,
      "outputs": [
        {
          "output_type": "stream",
          "name": "stdout",
          "text": [
            "escrito 9\n"
          ]
        }
      ]
    },
    {
      "cell_type": "markdown",
      "source": [
        "#La funcion write \n",
        "escribe datos en un archivo abierto para escritura para ello usa un apuntador al siguiente byte dentro del archivo.\n",
        "Cuando el archivo se abre se crea este apuntador y se pocisiona para moverse de forma automatica cada vez que escribes."
      ],
      "metadata": {
        "id": "oCS_EukKR5Ci"
      }
    },
    {
      "cell_type": "markdown",
      "source": [
        "#Lectura de un archivo\n",
        "Para leer un archivo con programacion se puede emplear una de tres opciones (funciones):\n",
        "1. read() lee todo el archivo y lo regresa como texto\n",
        "2. readline() lee una sola linea (Hasta encontrar el siguiente caracter de salto de line \\n y la regresa como string\n",
        "3. readlines() lee todo el archivo y lo regresa como una lista de texto separada por saltos de linea \n",
        "\n"
      ],
      "metadata": {
        "id": "4HFxZnF4TSWG"
      }
    },
    {
      "cell_type": "code",
      "source": [
        "!cat ejemplo1.txt "
      ],
      "metadata": {
        "colab": {
          "base_uri": "https://localhost:8080/"
        },
        "id": "G8kiTltHUKaM",
        "outputId": "2b583c19-2e5b-4386-a7fa-ea3887514dcc"
      },
      "execution_count": 5,
      "outputs": [
        {
          "output_type": "stream",
          "name": "stdout",
          "text": [
            "Hola mundo0\n",
            "Hola mundo1\n",
            "Hola mundo2\n",
            "Hola mundo3\n",
            "Hola mundo4\n",
            "Hola mundo5\n",
            "Hola mundo6\n",
            "Hola mundo7\n",
            "Hola mundo8\n",
            "Hola mundo9\n",
            "otra cosa"
          ]
        }
      ]
    },
    {
      "cell_type": "code",
      "source": [
        "archivo1 = open(\"ejemplo1.txt\", \"rt\")\n",
        "datos = archivo1.read()\n",
        "print(\"-->\"+datos+\"<--\")"
      ],
      "metadata": {
        "colab": {
          "base_uri": "https://localhost:8080/"
        },
        "id": "EElAzIQoUYpI",
        "outputId": "b10a9648-edbe-4376-a5f7-0e0cf6181b76"
      },
      "execution_count": 6,
      "outputs": [
        {
          "output_type": "stream",
          "name": "stdout",
          "text": [
            "-->Hola mundo0\n",
            "Hola mundo1\n",
            "Hola mundo2\n",
            "Hola mundo3\n",
            "Hola mundo4\n",
            "Hola mundo5\n",
            "Hola mundo6\n",
            "Hola mundo7\n",
            "Hola mundo8\n",
            "Hola mundo9\n",
            "otra cosa<--\n"
          ]
        }
      ]
    },
    {
      "cell_type": "code",
      "source": [
        "archivo2 = open(\"ejemplo1.txt\",\"rt\")\n",
        "for x in range(11):\n",
        "    if x%2 == 0:\n",
        "        print( archivo2.readline().upper() ,end=\"\"  )\n",
        "    else:\n",
        "        print( archivo2.readline().lower() ,end=\"\" )"
      ],
      "metadata": {
        "colab": {
          "base_uri": "https://localhost:8080/"
        },
        "id": "8u79SSFmYevx",
        "outputId": "2aa6b7bc-5b0c-44e6-9ad4-e1b767bcabfb"
      },
      "execution_count": 8,
      "outputs": [
        {
          "output_type": "stream",
          "name": "stdout",
          "text": [
            "HOLA MUNDO0\n",
            "hola mundo1\n",
            "HOLA MUNDO2\n",
            "hola mundo3\n",
            "HOLA MUNDO4\n",
            "hola mundo5\n",
            "HOLA MUNDO6\n",
            "hola mundo7\n",
            "HOLA MUNDO8\n",
            "hola mundo9\n",
            "OTRA COSA"
          ]
        }
      ]
    },
    {
      "cell_type": "code",
      "source": [
        "archivo4 = open(\"ejemplo2.txt\" , \"rt\")\n",
        "lineas = archivo4.readlines()\n",
        "print(lineas)\n",
        "suma = 0\n",
        "for linea in lineas[: len(lineas)-1 :]:\n",
        "    for numero in linea.strip().split(','):\n",
        "        suma += int( numero.strip() )\n",
        "print(suma)"
      ],
      "metadata": {
        "id": "x03teTmNiuNE"
      },
      "execution_count": null,
      "outputs": []
    }
  ]
}